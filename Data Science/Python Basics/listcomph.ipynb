{
 "cells": [
  {
   "cell_type": "code",
   "execution_count": null,
   "id": "54277900",
   "metadata": {},
   "outputs": [],
   "source": [
    "# list compheresion = way to create a list with less syntax"
   ]
  },
  {
   "cell_type": "code",
   "execution_count": 2,
   "id": "49fb7d03",
   "metadata": {},
   "outputs": [
    {
     "name": "stdout",
     "output_type": "stream",
     "text": [
      "['RED', 'GREEN', 'BLACK', 'BLUE']\n"
     ]
    }
   ],
   "source": [
    "lst = [\"red\",\"green\",\"black\",\"blue\"]\n",
    "newlist = [i.upper()for i in lst]\n",
    "print(newlist)\n"
   ]
  },
  {
   "cell_type": "code",
   "execution_count": 8,
   "id": "efe06043",
   "metadata": {},
   "outputs": [
    {
     "name": "stdout",
     "output_type": "stream",
     "text": [
      "[1, 4, 9, 16, 25]\n"
     ]
    }
   ],
   "source": [
    "lst = [1,2,3,4,5]\n",
    "newlist = [i*i for i in lst]\n",
    "print(newlist)"
   ]
  },
  {
   "cell_type": "code",
   "execution_count": 9,
   "id": "aee1ec12",
   "metadata": {},
   "outputs": [
    {
     "name": "stdout",
     "output_type": "stream",
     "text": [
      "[2, 4]\n"
     ]
    }
   ],
   "source": [
    "lst = [1,2,3,4,5]\n",
    "newlist = [i for i in lst if i%2==0]\n",
    "print(newlist)"
   ]
  },
  {
   "cell_type": "code",
   "execution_count": null,
   "id": "4a0af4e2",
   "metadata": {},
   "outputs": [],
   "source": [
    "lst = [\"red\",\"green\",\"black\",\"blue\"]\n",
    "lst = [[1,2,3],[4,5,6],[7,8,9]]\n"
   ]
  }
 ],
 "metadata": {
  "kernelspec": {
   "display_name": "Python 3",
   "language": "python",
   "name": "python3"
  },
  "language_info": {
   "codemirror_mode": {
    "name": "ipython",
    "version": 3
   },
   "file_extension": ".py",
   "mimetype": "text/x-python",
   "name": "python",
   "nbconvert_exporter": "python",
   "pygments_lexer": "ipython3",
   "version": "3.11.9"
  }
 },
 "nbformat": 4,
 "nbformat_minor": 5
}
