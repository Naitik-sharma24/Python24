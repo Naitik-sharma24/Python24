{
 "cells": [
  {
   "cell_type": "code",
   "execution_count": null,
   "id": "ed4a6c10",
   "metadata": {},
   "outputs": [],
   "source": [
    "#module = importing other pyhton files into current file basic \n",
    "# module is a single python file (.py)\n",
    "\n",
    "# there are 3 type of module \n",
    "# 1)built-in  = 05,datetime,re,math\n",
    "# 2)third party modules = pandas,numpy\n",
    "# 3)user defined modules\n"
   ]
  },
  {
   "cell_type": "code",
   "execution_count": null,
   "id": "815fa622",
   "metadata": {},
   "outputs": [],
   "source": [
    "#note=important vscode ko off karne ka baad on karke reduce function chalate hai to error aati hai iske liye ye code phle chalana padega\n",
    "#from functions import reduce\n"
   ]
  },
  {
   "cell_type": "code",
   "execution_count": 14,
   "id": "b5a6bab2",
   "metadata": {},
   "outputs": [
    {
     "name": "stdout",
     "output_type": "stream",
     "text": [
      "5\n"
     ]
    }
   ],
   "source": [
    "from addition import addfunction\n",
    "print(addfunction(2,3))"
   ]
  },
  {
   "cell_type": "code",
   "execution_count": null,
   "id": "e4447ae6",
   "metadata": {},
   "outputs": [],
   "source": []
  }
 ],
 "metadata": {
  "kernelspec": {
   "display_name": "Python 3",
   "language": "python",
   "name": "python3"
  },
  "language_info": {
   "codemirror_mode": {
    "name": "ipython",
    "version": 3
   },
   "file_extension": ".py",
   "mimetype": "text/x-python",
   "name": "python",
   "nbconvert_exporter": "python",
   "pygments_lexer": "ipython3",
   "version": "3.11.9"
  }
 },
 "nbformat": 4,
 "nbformat_minor": 5
}
