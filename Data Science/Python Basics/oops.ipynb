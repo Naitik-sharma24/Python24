{
 "cells": [
  {
   "cell_type": "code",
   "execution_count": null,
   "id": "4c4ae50d",
   "metadata": {},
   "outputs": [],
   "source": [
    "#class , object, method\n",
    "# type of oops\n",
    "\n",
    "# single, multiple, multilevel, herachical, hybrid\n",
    "# polymorphism, encapsulation"
   ]
  },
  {
   "cell_type": "code",
   "execution_count": 8,
   "id": "02053d5e",
   "metadata": {},
   "outputs": [
    {
     "data": {
      "text/plain": [
       "('abc', 'xyz')"
      ]
     },
     "execution_count": 8,
     "metadata": {},
     "output_type": "execute_result"
    }
   ],
   "source": [
    "#class\n",
    "class car:\n",
    "    num1 = 10\n",
    "    num2 = 20\n",
    "    name = \"abc\"\n",
    "    model = \"xyz\"\n",
    "    \n",
    "    def add(self):\n",
    "        return self.num1 + self.num2\n",
    "    def display(self):\n",
    "        return self.name , self.model\n",
    "    \n",
    "obj=car()\n",
    "obj.display()"
   ]
  },
  {
   "cell_type": "code",
   "execution_count": 15,
   "id": "993ba027",
   "metadata": {},
   "outputs": [
    {
     "data": {
      "text/plain": [
       "('lion', 29)"
      ]
     },
     "execution_count": 15,
     "metadata": {},
     "output_type": "execute_result"
    }
   ],
   "source": [
    "#init = constructor = intialize the variable\n",
    "\n",
    "class animal:\n",
    "    def __init__(self,name,age):\n",
    "        self.name = name\n",
    "        self.age = age\n",
    "    \n",
    "    def display(self):\n",
    "        return self.name , self.age\n",
    "    \n",
    "obj = animal(\"lion\",29)\n",
    "obj.display()"
   ]
  }
 ],
 "metadata": {
  "kernelspec": {
   "display_name": "Python 3",
   "language": "python",
   "name": "python3"
  },
  "language_info": {
   "codemirror_mode": {
    "name": "ipython",
    "version": 3
   },
   "file_extension": ".py",
   "mimetype": "text/x-python",
   "name": "python",
   "nbconvert_exporter": "python",
   "pygments_lexer": "ipython3",
   "version": "3.11.9"
  }
 },
 "nbformat": 4,
 "nbformat_minor": 5
}
