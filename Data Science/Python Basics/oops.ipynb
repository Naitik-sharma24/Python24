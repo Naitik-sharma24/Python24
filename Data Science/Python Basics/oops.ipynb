{
 "cells": [
  {
   "cell_type": "code",
   "execution_count": null,
   "id": "4c4ae50d",
   "metadata": {},
   "outputs": [],
   "source": [
    "#class , object, method\n",
    "# type of oops\n",
    "\n",
    "# single, multiple, multilevel, herachical, hybrid\n",
    "# polymorphism, encapsulation"
   ]
  },
  {
   "cell_type": "code",
   "execution_count": 8,
   "id": "02053d5e",
   "metadata": {},
   "outputs": [
    {
     "data": {
      "text/plain": [
       "('abc', 'xyz')"
      ]
     },
     "execution_count": 8,
     "metadata": {},
     "output_type": "execute_result"
    }
   ],
   "source": [
    "#class\n",
    "class car:\n",
    "    num1 = 10\n",
    "    num2 = 20\n",
    "    name = \"abc\"\n",
    "    model = \"xyz\"\n",
    "    \n",
    "    def add(self):\n",
    "        return self.num1 + self.num2\n",
    "    def display(self):\n",
    "        return self.name , self.model\n",
    "    \n",
    "obj=car()\n",
    "obj.display()"
   ]
  },
  {
   "cell_type": "code",
   "execution_count": 1,
   "id": "993ba027",
   "metadata": {},
   "outputs": [
    {
     "data": {
      "text/plain": [
       "('lion', 29)"
      ]
     },
     "execution_count": 1,
     "metadata": {},
     "output_type": "execute_result"
    }
   ],
   "source": [
    "#init = constructor = intialize the variable\n",
    "\n",
    "class animal:\n",
    "    def __init__(self,name,age):\n",
    "        self.name = name\n",
    "        self.age = age\n",
    "    \n",
    "    def display(self):\n",
    "        return self.name , self.age\n",
    "    \n",
    "obj = animal(\"lion\",29)\n",
    "obj.display()"
   ]
  },
  {
   "cell_type": "code",
   "execution_count": null,
   "id": "90c26838",
   "metadata": {},
   "outputs": [],
   "source": [
    "#Inheritance = type = single,multiple,multilevel,hierachical,hybrid\n",
    "\n",
    "\n",
    "#single inheritance\n",
    "\n",
    "class car:\n",
    "    def display(self):\n",
    "        return \"car\"\n",
    "    \n",
    "class bike:\n",
    "    def show(self):\n",
    "        return \"bike\"\n",
    "    \n",
    "obj = bike()\n",
    "print(obj.display())\n",
    "print(obj.show())"
   ]
  },
  {
   "cell_type": "code",
   "execution_count": null,
   "id": "81e74c63",
   "metadata": {},
   "outputs": [
    {
     "data": {
      "text/plain": [
       "'abc'"
      ]
     },
     "execution_count": 13,
     "metadata": {},
     "output_type": "execute_result"
    }
   ],
   "source": [
    "#multiple\n",
    "class person:\n",
    "    def __init__(self,name):\n",
    "        self.name = name\n",
    "\n",
    "    def show(self):\n",
    "        return self.name\n",
    "\n",
    "class employee(person):\n",
    "    def __init__(self,name,salary):\n",
    "        super().__init__(name)    #super keyword = parent class me se metod or object ko access karna hoo to \n",
    "        self.salary = salary\n",
    "\n",
    "obj = employee(\"abc\",1000)\n",
    "obj.show()"
   ]
  },
  {
   "cell_type": "code",
   "execution_count": 29,
   "id": "9316402d",
   "metadata": {},
   "outputs": [],
   "source": [
    "class person:\n",
    "    def __init__(self,name):\n",
    "        self.name = name\n",
    "\n",
    "    def show(self):\n",
    "        return self.name\n",
    "\n",
    "class employee(person):\n",
    "    def __init__(self,name,salary):\n",
    "        super().__init__(name)    #super keyword = parent class me se metod or object ko access karna hoo to \n",
    "        self.salary = salary\n",
    "\n",
    "\n",
    "class job:\n",
    "    def __init__(self,salary):\n",
    "        self.salary = salary\n",
    "\n",
    "class job:\n",
    "    def __init__(self,salary):\n",
    "        self.salary = salary\n",
    "\n",
    "class Employeepersonjob(employee,job):\n",
    "    def __init__(self,name,salary):\n",
    "        employee.__init__(self,name,salary)\n",
    "        job.__init__(self,salary)"
   ]
  },
  {
   "cell_type": "code",
   "execution_count": 30,
   "id": "bf6ba9dc",
   "metadata": {},
   "outputs": [],
   "source": [
    "#multilevel \n",
    "class person:\n",
    "    def __init__(self,name):\n",
    "        self.name = name\n",
    "\n",
    "    def show(self):\n",
    "        return self.name\n",
    "\n",
    "class employee(person):\n",
    "    def __init__(self,name,salary):\n",
    "        super().__init__(name)    #super keyword = parent class me se metod or object ko access karna hoo to \n",
    "        self.salary = salary\n",
    "\n",
    "\n",
    "class job:\n",
    "    def __init__(self,salary):\n",
    "        self.salary = salary\n",
    "\n",
    "class job:\n",
    "    def __init__(self,salary):\n",
    "        self.salary = salary\n",
    "\n",
    "class Employeepersonjob(employee,job):\n",
    "    def __init__(self,name,salary):\n",
    "        employee.__init__(self,name,salary)\n",
    "        job.__init__(self,salary)\n",
    "        "
   ]
  },
  {
   "cell_type": "code",
   "execution_count": 36,
   "id": "b0adf93e",
   "metadata": {},
   "outputs": [
    {
     "name": "stdout",
     "output_type": "stream",
     "text": [
      "meow\n",
      "bark\n"
     ]
    }
   ],
   "source": [
    "#polymorphism == many form == the same function and method are behave differentially based on the input\n",
    "\n",
    "class cat:\n",
    "    def sound(self):\n",
    "        return \"meow\"\n",
    "    \n",
    "class dog:\n",
    "    def sound(self):\n",
    "        return \"bark\"\n",
    "\n",
    "def make_sound(animal):\n",
    "    return animal.sound()\n",
    "\n",
    "cat = cat()\n",
    "dog = dog()\n",
    "\n",
    "print(make_sound(cat))\n",
    "print(make_sound(dog))"
   ]
  },
  {
   "cell_type": "code",
   "execution_count": null,
   "id": "5ab5b7ef",
   "metadata": {},
   "outputs": [
    {
     "name": "stdout",
     "output_type": "stream",
     "text": [
      "15\n",
      "Area is 15\n"
     ]
    }
   ],
   "source": [
    "class RectangleInt:\n",
    "    def area(self, length, breadth):\n",
    "        return length * breadth\n",
    "\n",
    "class RectangleStr:\n",
    "    def area(self, length, breadth):\n",
    "        return f\"Area is {length * breadth}\"\n",
    "\n",
    "def calc_area(rect, length, breadth):\n",
    "    return rect.area(length, breadth)\n",
    "\n",
    "rect1 = RectangleInt()\n",
    "rect2 = RectangleStr()\n",
    "\n",
    "print(calc_area(rect1, 5, 3))   \n",
    "print(calc_area(rect2, 5, 3))   "
   ]
  },
  {
   "cell_type": "code",
   "execution_count": null,
   "id": "f3b538db",
   "metadata": {},
   "outputs": [],
   "source": [
    "#encapsulaion = it means hiding the internal class and protective data from being access or modified directly by the outside world\n",
    "#we can do it using private and protected variable\n",
    "#private = variable --  __name \n",
    "#can not be accessible outside the class\n",
    "\n",
    "\n",
    "#protected variable  -- _name\n",
    "#we can be accessible inside the class and its subclass "
   ]
  },
  {
   "cell_type": "code",
   "execution_count": 53,
   "id": "91afdf04",
   "metadata": {},
   "outputs": [
    {
     "data": {
      "text/plain": [
       "50"
      ]
     },
     "execution_count": 53,
     "metadata": {},
     "output_type": "execute_result"
    }
   ],
   "source": [
    "#private encapsulation\n",
    "class student:\n",
    "    def __init__(self,name,marks):\n",
    "        self.name = name \n",
    "        self.__marks = marks\n",
    "\n",
    "    def set_marks(self):\n",
    "        return self.__marks\n",
    "    \n",
    "    def set_marks(self,marks):\n",
    "        if 0 <= marks <= 100:\n",
    "            self.__marks = marks\n",
    "\n",
    "        else:\n",
    "            print(\"Invalid marks\")\n",
    "\n",
    "s = student(\"abc\",50)\n",
    "#name mangling  #private variable ko access karte time error aati hai to alag name se variable ko define karte hai isko name mangling bolte hai.\n",
    "s._student__marks"
   ]
  },
  {
   "cell_type": "code",
   "execution_count": null,
   "id": "08719980",
   "metadata": {},
   "outputs": [],
   "source": []
  }
 ],
 "metadata": {
  "kernelspec": {
   "display_name": "Python 3",
   "language": "python",
   "name": "python3"
  },
  "language_info": {
   "codemirror_mode": {
    "name": "ipython",
    "version": 3
   },
   "file_extension": ".py",
   "mimetype": "text/x-python",
   "name": "python",
   "nbconvert_exporter": "python",
   "pygments_lexer": "ipython3",
   "version": "3.11.9"
  }
 },
 "nbformat": 4,
 "nbformat_minor": 5
}
