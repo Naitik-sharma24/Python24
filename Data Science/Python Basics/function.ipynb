{
 "cells": [
  {
   "cell_type": "code",
   "execution_count": null,
   "id": "bc033b1b",
   "metadata": {},
   "outputs": [],
   "source": [
    "#function is a block of code that is used to repeated task and it will execute only when it is called\n",
    "# two types of function 1.user define function 2.built in function"
   ]
  },
  {
   "cell_type": "code",
   "execution_count": 1,
   "id": "70bee07d",
   "metadata": {},
   "outputs": [
    {
     "name": "stdout",
     "output_type": "stream",
     "text": [
      "hello from the function\n"
     ]
    }
   ],
   "source": [
    "#user defined function \n",
    "def hello():\n",
    "    print(\"hello from the function\")\n",
    "hello()\n",
    "\n"
   ]
  },
  {
   "cell_type": "code",
   "execution_count": 7,
   "id": "00aaeee8",
   "metadata": {},
   "outputs": [
    {
     "name": "stdout",
     "output_type": "stream",
     "text": [
      "30\n"
     ]
    }
   ],
   "source": [
    "def add():\n",
    "    a = 10\n",
    "    b = 20\n",
    "    c = 30\n",
    "    print(c)\n",
    "add()"
   ]
  },
  {
   "cell_type": "code",
   "execution_count": 8,
   "id": "31fe2194",
   "metadata": {},
   "outputs": [
    {
     "name": "stdout",
     "output_type": "stream",
     "text": [
      "265588779890\n"
     ]
    }
   ],
   "source": [
    "def add(a,b):\n",
    "    print(a+b)\n",
    "add(242343434545,23245345345)"
   ]
  },
  {
   "cell_type": "code",
   "execution_count": 23,
   "id": "d11d29d1",
   "metadata": {},
   "outputs": [
    {
     "name": "stdout",
     "output_type": "stream",
     "text": [
      "the youngest child is alex\n"
     ]
    }
   ],
   "source": [
    "#arbitary argument ----args------\n",
    "def child(*kids):\n",
    "    print(\"the youngest child is \" +kids[2])\n",
    "\n",
    "child(\"jony\",\"deni\",\"alex\")\n"
   ]
  },
  {
   "cell_type": "code",
   "execution_count": 25,
   "id": "6c2ae376",
   "metadata": {},
   "outputs": [
    {
     "name": "stdout",
     "output_type": "stream",
     "text": [
      "the youngest child is jon\n"
     ]
    }
   ],
   "source": [
    "##keyword argument \n",
    "\n",
    "def child(child1,child2,child3):\n",
    "    print(\"the youngest child is \" +child3)\n",
    "\n",
    "child(child3=\"jon\",child2=\"don\",child1=\"lon\")\n"
   ]
  },
  {
   "cell_type": "code",
   "execution_count": 28,
   "id": "4c7f043b",
   "metadata": {},
   "outputs": [
    {
     "name": "stdout",
     "output_type": "stream",
     "text": [
      "my hobby is cricket\n",
      "my hobby is coding\n"
     ]
    }
   ],
   "source": [
    "#default parameter value\n",
    "def hobby(name=\"coding\"):\n",
    "    print(\"my hobby is \" + name)\n",
    "hobby(\"cricket\")\n",
    "hobby()"
   ]
  },
  {
   "cell_type": "code",
   "execution_count": 30,
   "id": "f6e148ed",
   "metadata": {},
   "outputs": [
    {
     "name": "stdout",
     "output_type": "stream",
     "text": [
      "alex\n",
      "john\n",
      "eva\n"
     ]
    }
   ],
   "source": [
    "def lst(name):\n",
    "    for i in name:\n",
    "        print(i)\n",
    "\n",
    "lst([\"alex\",\"john\",\"eva\"])"
   ]
  },
  {
   "cell_type": "code",
   "execution_count": 1,
   "id": "de75989c",
   "metadata": {},
   "outputs": [
    {
     "name": "stdout",
     "output_type": "stream",
     "text": [
      "3.5\n"
     ]
    }
   ],
   "source": [
    "#using average \n",
    "\n",
    "def avg(name):\n",
    "    print(sum(name)/len(name))\n",
    "\n",
    "avg([2,3,4,5])"
   ]
  },
  {
   "cell_type": "code",
   "execution_count": null,
   "id": "c95a6825",
   "metadata": {},
   "outputs": [
    {
     "data": {
      "text/plain": [
       "15"
      ]
     },
     "execution_count": 3,
     "metadata": {},
     "output_type": "execute_result"
    }
   ],
   "source": [
    "#lambda functions\n",
    "\n",
    "x = lambda a : a + 10\n",
    "x(5)\n"
   ]
  },
  {
   "cell_type": "code",
   "execution_count": 5,
   "id": "245ac0a6",
   "metadata": {},
   "outputs": [
    {
     "data": {
      "text/plain": [
       "349"
      ]
     },
     "execution_count": 5,
     "metadata": {},
     "output_type": "execute_result"
    }
   ],
   "source": [
    "#lambda function\n",
    "\n",
    "x = lambda a,b : a + b\n",
    "x(5,344)"
   ]
  },
  {
   "cell_type": "code",
   "execution_count": 11,
   "id": "2479dcaa",
   "metadata": {},
   "outputs": [
    {
     "name": "stdout",
     "output_type": "stream",
     "text": [
      "[1, 4, 9, 16, 25]\n"
     ]
    }
   ],
   "source": [
    "\n",
    "\n",
    "lst = [1,2,3,4,5]\n",
    "result = map(sq,lst)\n",
    "print(list(result))"
   ]
  },
  {
   "cell_type": "code",
   "execution_count": 13,
   "id": "d0e50189",
   "metadata": {},
   "outputs": [
    {
     "name": "stdout",
     "output_type": "stream",
     "text": [
      "[2, 4]\n"
     ]
    }
   ],
   "source": [
    "#filter function\n",
    "\n",
    "lst = [1,2,3,4,5]\n",
    "result = filter(lambda num : num%2==0,lst)\n",
    "print(list(result))"
   ]
  },
  {
   "cell_type": "code",
   "execution_count": 15,
   "id": "1831cc13",
   "metadata": {},
   "outputs": [
    {
     "name": "stdout",
     "output_type": "stream",
     "text": [
      "21\n"
     ]
    }
   ],
   "source": [
    "#reduce function\n",
    "\n",
    "from functools import reduce\n",
    "lst = [1,2,3,4,5,6]\n",
    "result = reduce(lambda num1,num2 : num1+num2,lst)\n",
    "print(result)"
   ]
  },
  {
   "cell_type": "code",
   "execution_count": 16,
   "id": "46a5d510",
   "metadata": {},
   "outputs": [
    {
     "name": "stdout",
     "output_type": "stream",
     "text": [
      "[(0, 'john'), (1, 'alex'), (2, 'deni')]\n"
     ]
    }
   ],
   "source": [
    "#enumerate = iterable karke har ek element ke saath index number add kar deta hai \n",
    "\n",
    "lst = [\"john\",\"alex\",\"deni\"]\n",
    "result = enumerate(lst)\n",
    "print(list(result))"
   ]
  },
  {
   "cell_type": "code",
   "execution_count": 17,
   "id": "2ecad474",
   "metadata": {},
   "outputs": [
    {
     "name": "stdout",
     "output_type": "stream",
     "text": [
      "[('john', 1), ('alex', 2), ('deni', 3)]\n"
     ]
    }
   ],
   "source": [
    "#zip function -- it is used to combine two or more iteration\n",
    "\n",
    "lst1 = [\"john\",\"alex\",\"deni\"]\n",
    "lst2 = [1,2,3]\n",
    "result = zip(lst1,lst2)\n",
    "print(list(result))"
   ]
  },
  {
   "cell_type": "code",
   "execution_count": 24,
   "id": "002af4c7",
   "metadata": {},
   "outputs": [
    {
     "name": "stdout",
     "output_type": "stream",
     "text": [
      "[('john', 1), ('alex', 2)]\n"
     ]
    }
   ],
   "source": [
    "#one block are hidden than\n",
    "lst1 = [\"john\",\"alex\",\"mohan\"] #not show 3rd person name \n",
    "lst2 = [1,2]\n",
    "result = zip(lst1,lst2)\n",
    "print(list(result))"
   ]
  },
  {
   "cell_type": "code",
   "execution_count": 23,
   "id": "0a1c5721",
   "metadata": {},
   "outputs": [
    {
     "name": "stdout",
     "output_type": "stream",
     "text": [
      "['john', 'alex', 'mohan']\n",
      "[1, 2, 3]\n"
     ]
    }
   ],
   "source": [
    "zipped = [('john', 1), ('alex', 2), ('mohan', 3)]\n",
    "result ,number= zip(*zipped)\n",
    "print(list(result))\n",
    "print(list(number))\n"
   ]
  },
  {
   "cell_type": "code",
   "execution_count": null,
   "id": "1ccb952e",
   "metadata": {},
   "outputs": [],
   "source": []
  }
 ],
 "metadata": {
  "kernelspec": {
   "display_name": "Python 3",
   "language": "python",
   "name": "python3"
  },
  "language_info": {
   "codemirror_mode": {
    "name": "ipython",
    "version": 3
   },
   "file_extension": ".py",
   "mimetype": "text/x-python",
   "name": "python",
   "nbconvert_exporter": "python",
   "pygments_lexer": "ipython3",
   "version": "3.11.9"
  }
 },
 "nbformat": 4,
 "nbformat_minor": 5
}
