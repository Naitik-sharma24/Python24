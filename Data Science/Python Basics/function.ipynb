{
 "cells": [
  {
   "cell_type": "code",
   "execution_count": null,
   "id": "bc033b1b",
   "metadata": {},
   "outputs": [],
   "source": [
    "#function is a block of code that is used to repeated task and it will execute only when it is called\n",
    "# two types of function 1.user define function 2.built in function"
   ]
  },
  {
   "cell_type": "code",
   "execution_count": 1,
   "id": "70bee07d",
   "metadata": {},
   "outputs": [
    {
     "name": "stdout",
     "output_type": "stream",
     "text": [
      "hello from the function\n"
     ]
    }
   ],
   "source": [
    "#user defined function \n",
    "def hello():\n",
    "    print(\"hello from the function\")\n",
    "hello()\n",
    "\n"
   ]
  },
  {
   "cell_type": "code",
   "execution_count": 7,
   "id": "00aaeee8",
   "metadata": {},
   "outputs": [
    {
     "name": "stdout",
     "output_type": "stream",
     "text": [
      "30\n"
     ]
    }
   ],
   "source": [
    "def add():\n",
    "    a = 10\n",
    "    b = 20\n",
    "    c = 30\n",
    "    print(c)\n",
    "add()"
   ]
  },
  {
   "cell_type": "code",
   "execution_count": 8,
   "id": "31fe2194",
   "metadata": {},
   "outputs": [
    {
     "name": "stdout",
     "output_type": "stream",
     "text": [
      "265588779890\n"
     ]
    }
   ],
   "source": [
    "def add(a,b):\n",
    "    print(a+b)\n",
    "add(242343434545,23245345345)"
   ]
  },
  {
   "cell_type": "code",
   "execution_count": 23,
   "id": "d11d29d1",
   "metadata": {},
   "outputs": [
    {
     "name": "stdout",
     "output_type": "stream",
     "text": [
      "the youngest child is alex\n"
     ]
    }
   ],
   "source": [
    "#arbitary argument ----args------\n",
    "def child(*kids):\n",
    "    print(\"the youngest child is \" +kids[2])\n",
    "\n",
    "child(\"jony\",\"deni\",\"alex\")\n"
   ]
  },
  {
   "cell_type": "code",
   "execution_count": 25,
   "id": "6c2ae376",
   "metadata": {},
   "outputs": [
    {
     "name": "stdout",
     "output_type": "stream",
     "text": [
      "the youngest child is jon\n"
     ]
    }
   ],
   "source": [
    "##keyword argument \n",
    "\n",
    "def child(child1,child2,child3):\n",
    "    print(\"the youngest child is \" +child3)\n",
    "\n",
    "child(child3=\"jon\",child2=\"don\",child1=\"lon\")\n"
   ]
  },
  {
   "cell_type": "code",
   "execution_count": 28,
   "id": "4c7f043b",
   "metadata": {},
   "outputs": [
    {
     "name": "stdout",
     "output_type": "stream",
     "text": [
      "my hobby is cricket\n",
      "my hobby is coding\n"
     ]
    }
   ],
   "source": [
    "#default parameter value\n",
    "def hobby(name=\"coding\"):\n",
    "    print(\"my hobby is \" + name)\n",
    "hobby(\"cricket\")\n",
    "hobby()"
   ]
  },
  {
   "cell_type": "code",
   "execution_count": 30,
   "id": "f6e148ed",
   "metadata": {},
   "outputs": [
    {
     "name": "stdout",
     "output_type": "stream",
     "text": [
      "alex\n",
      "john\n",
      "eva\n"
     ]
    }
   ],
   "source": [
    "def lst(name):\n",
    "    for i in name:\n",
    "        print(i)\n",
    "\n",
    "lst([\"alex\",\"john\",\"eva\"])"
   ]
  },
  {
   "cell_type": "code",
   "execution_count": 34,
   "id": "de75989c",
   "metadata": {},
   "outputs": [
    {
     "name": "stdout",
     "output_type": "stream",
     "text": [
      "3.5\n"
     ]
    }
   ],
   "source": [
    "#using average \n",
    "\n",
    "def avg(name):\n",
    "    print(sum(name)/len(name))\n",
    "\n",
    "avg([2,3,4,5])"
   ]
  }
 ],
 "metadata": {
  "kernelspec": {
   "display_name": "Python 3",
   "language": "python",
   "name": "python3"
  },
  "language_info": {
   "codemirror_mode": {
    "name": "ipython",
    "version": 3
   },
   "file_extension": ".py",
   "mimetype": "text/x-python",
   "name": "python",
   "nbconvert_exporter": "python",
   "pygments_lexer": "ipython3",
   "version": "3.11.9"
  }
 },
 "nbformat": 4,
 "nbformat_minor": 5
}
