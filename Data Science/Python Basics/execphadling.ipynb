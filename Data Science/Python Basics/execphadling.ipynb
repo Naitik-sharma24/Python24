{
 "cells": [
  {
   "cell_type": "code",
   "execution_count": null,
   "id": "fca4ab42",
   "metadata": {},
   "outputs": [],
   "source": [
    "#error handling \n",
    "#add type of blocks --try = else,finally"
   ]
  },
  {
   "cell_type": "code",
   "execution_count": 2,
   "id": "caa83bc3",
   "metadata": {},
   "outputs": [
    {
     "name": "stdout",
     "output_type": "stream",
     "text": [
      "zero division error\n",
      "finally block\n"
     ]
    }
   ],
   "source": [
    "try: \n",
    "    print(10/0)\n",
    "except:\n",
    "    print(\"zero division error\")\n",
    "else:\n",
    "    print(\"else block\")\n",
    "finally:\n",
    "    print(\"finally block\")"
   ]
  },
  {
   "cell_type": "code",
   "execution_count": 4,
   "id": "64b382e8",
   "metadata": {},
   "outputs": [
    {
     "name": "stdout",
     "output_type": "stream",
     "text": [
      "division by zero\n",
      "finally block\n"
     ]
    }
   ],
   "source": [
    "try:\n",
    "    print(10/0)\n",
    "except Exception as e:\n",
    "    print(e)\n",
    "    \n",
    "else:\n",
    "    print(\"else block\")\n",
    "finally:\n",
    "    print(\"finally block\")\n",
    "    "
   ]
  },
  {
   "cell_type": "code",
   "execution_count": null,
   "id": "44eed1bc",
   "metadata": {},
   "outputs": [],
   "source": []
  }
 ],
 "metadata": {
  "kernelspec": {
   "display_name": "Python 3",
   "language": "python",
   "name": "python3"
  },
  "language_info": {
   "codemirror_mode": {
    "name": "ipython",
    "version": 3
   },
   "file_extension": ".py",
   "mimetype": "text/x-python",
   "name": "python",
   "nbconvert_exporter": "python",
   "pygments_lexer": "ipython3",
   "version": "3.11.9"
  }
 },
 "nbformat": 4,
 "nbformat_minor": 5
}
